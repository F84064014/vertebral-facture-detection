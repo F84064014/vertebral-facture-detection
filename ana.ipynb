{
 "metadata": {
  "language_info": {
   "codemirror_mode": {
    "name": "ipython",
    "version": 3
   },
   "file_extension": ".py",
   "mimetype": "text/x-python",
   "name": "python",
   "nbconvert_exporter": "python",
   "pygments_lexer": "ipython3",
   "version": "3.9.1-final"
  },
  "orig_nbformat": 2,
  "kernelspec": {
   "name": "python3",
   "display_name": "Python 3.9.1 64-bit",
   "metadata": {
    "interpreter": {
     "hash": "247ab06e135bb35fa78c5eff31b2a9a0050dcb5fb773c2631d2a29ac689eeccb"
    }
   }
  }
 },
 "nbformat": 4,
 "nbformat_minor": 2,
 "cells": [
  {
   "cell_type": "code",
   "execution_count": 2,
   "metadata": {},
   "outputs": [
    {
     "output_type": "stream",
     "name": "stdout",
     "text": [
      "{'_via_settings': {'ui': {'annotation_editor_height': 25, 'annotation_editor_fontsize': 0.8, 'leftsidebar_width': 18, 'image_grid': {'img_height': 80, 'rshape_fill': 'none', 'rshape_fill_opacity': 0.3, 'rshape_stroke': 'yellow', 'rshape_stroke_width': 2, 'show_region_shape': True, 'show_image_policy': 'all'}, 'image': {'region_label': '__via_region_id__', 'region_color': '__via_default_region_color__', 'region_label_font': '10px Sans', 'on_image_annotation_editor_placement': 'NEAR_REGION'}}, 'core': {'buffer_size': '18', 'filepath': {}, 'default_filepath': 'C:\\\\Users\\\\user\\\\OneDrive\\\\桌面\\\\16060746\\\\16060746\\\\'}, 'project': {'name': '16060746'}}, '_via_img_metadata': {'16060746_FILE0.bmp6197398': {'filename': '16060746_FILE0.bmp', 'size': 6197398, 'regions': [], 'file_attributes': {}}, '16060746_FILE1.bmp6084886': {'filename': '16060746_FILE1.bmp', 'size': 6084886, 'regions': [], 'file_attributes': {}}, '16060746_FILE2.bmp3989074': {'filename': '16060746_FILE2.bmp', 'size': 3989074, 'regions': [], 'file_attributes': {}}, '16060746_FILE3.bmp4718174': {'filename': '16060746_FILE3.bmp', 'size': 4718174, 'regions': [], 'file_attributes': {}}, '16060746_FILE4.bmp6155742': {'filename': '16060746_FILE4.bmp', 'size': 6155742, 'regions': [], 'file_attributes': {}}, '16060746_FILE5.bmp5188302': {'filename': '16060746_FILE5.bmp', 'size': 5188302, 'regions': [], 'file_attributes': {}}, '16060746_FILE6.bmp5829958': {'filename': '16060746_FILE6.bmp', 'size': 5829958, 'regions': [], 'file_attributes': {}}, '16060746_FILE7.bmp5861654': {'filename': '16060746_FILE7.bmp', 'size': 5861654, 'regions': [], 'file_attributes': {}}, '16060746_FILE8.bmp3898918': {'filename': '16060746_FILE8.bmp', 'size': 3898918, 'regions': [], 'file_attributes': {}}, '16060746_FILE9.bmp3792398': {'filename': '16060746_FILE9.bmp', 'size': 3792398, 'regions': [], 'file_attributes': {}}, '16060746_FILE10.bmp4560886': {'filename': '16060746_FILE10.bmp', 'size': 4560886, 'regions': [], 'file_attributes': {}}, '16060746_FILE11.bmp3866366': {'filename': '16060746_FILE11.bmp', 'size': 3866366, 'regions': [], 'file_attributes': {}}, '16060746_FILE12.bmp4459158': {'filename': '16060746_FILE12.bmp', 'size': 4459158, 'regions': [], 'file_attributes': {}}, '16060746_FILE13.bmp3684790': {'filename': '16060746_FILE13.bmp', 'size': 3684790, 'regions': [], 'file_attributes': {}}, '16060746_FILE14.bmp3267510': {'filename': '16060746_FILE14.bmp', 'size': 3267510, 'regions': [], 'file_attributes': {}}, '16060746_FILE15.bmp3402294': {'filename': '16060746_FILE15.bmp', 'size': 3402294, 'regions': [], 'file_attributes': {}}}, '_via_attributes': {'region': {}, 'file': {}}, '_via_data_format_version': '2.0.10', '_via_image_id_list': ['16060746_FILE0.bmp6197398', '16060746_FILE1.bmp6084886', '16060746_FILE2.bmp3989074', '16060746_FILE3.bmp4718174', '16060746_FILE4.bmp6155742', '16060746_FILE5.bmp5188302', '16060746_FILE6.bmp5829958', '16060746_FILE7.bmp5861654', '16060746_FILE8.bmp3898918', '16060746_FILE9.bmp3792398', '16060746_FILE10.bmp4560886', '16060746_FILE11.bmp3866366', '16060746_FILE12.bmp4459158', '16060746_FILE13.bmp3684790', '16060746_FILE14.bmp3267510', '16060746_FILE15.bmp3402294']}\n"
     ]
    }
   ],
   "source": [
    "import json\n",
    "\n",
    "dest = 'C:\\\\Users\\\\user\\\\OneDrive\\\\桌面\\\\annotateDATA\\\\16060746\\\\16060746\\\\16060746.json'\n",
    "ref = 'C:\\\\Users\\\\user\\\\OneDrive\\\\桌面\\\\ProjectBackup\\\\01142281.json'\n",
    "\n",
    "with open(dest, 'r', encoding='utf-8') as f:\n",
    "    projDict = json.load(f)\n",
    "    print(projDict)"
   ]
  },
  {
   "cell_type": "code",
   "execution_count": 2,
   "metadata": {},
   "outputs": [
    {
     "output_type": "stream",
     "name": "stdout",
     "text": [
      "dict_keys(['_via_settings', '_via_img_metadata', '_via_attributes', '_via_data_format_version', '_via_image_id_list'])\n{'region': {}, 'file': {}}\n"
     ]
    }
   ],
   "source": [
    "print(projDict.keys())\n",
    "print(projDict['_via_attributes'])"
   ]
  },
  {
   "cell_type": "code",
   "execution_count": 3,
   "metadata": {},
   "outputs": [
    {
     "output_type": "stream",
     "name": "stdout",
     "text": [
      "{'region': {'position': {'type': 'dropdown', 'description': '', 'options': {'C': '', 'T1': '', 'T2': '', 'T3': '', 'T4': '', 'T5': '', 'T6': '', 'T7': '', 'T8': '', 'T9': '', 'T10': '', 'T11': '', 'T12': '', 'L1': '', 'L2': '', 'L3': '', 'L4': '', 'L5': '', 'S': ''}, 'default_options': {}}, 'type': {'type': 'dropdown', 'description': '', 'options': {'normal': '', 'compre': '', 'burst': '', 'unsure': ''}, 'default_options': {'normal': True}}}, 'file': {}}\n"
     ]
    }
   ],
   "source": [
    "with open(ref, 'r', encoding='utf-8') as f:\n",
    "    sampleDict = json.load(f)\n",
    "    print(sampleDict['_via_attributes'])\n",
    "    projDict['_via_attributes'] = sampleDict['_via_attributes']\n",
    "    with open(dest, 'w', encoding='utf-8') as fp:\n",
    "        json.dump(projDict, fp)"
   ]
  },
  {
   "cell_type": "code",
   "execution_count": null,
   "metadata": {},
   "outputs": [],
   "source": []
  }
 ]
}